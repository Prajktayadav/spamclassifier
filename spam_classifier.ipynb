{
 "cells": [
  {
   "cell_type": "code",
   "execution_count": 2,
   "metadata": {},
   "outputs": [
    {
     "name": "stdout",
     "output_type": "stream",
     "text": [
      "Current working directory: c:\\Users\\KB\\spamClassifier\n",
      "vectorizer.pkl saved successfully!\n"
     ]
    }
   ],
   "source": [
    "import os\n",
    "print(\"Current working directory:\", os.getcwd())\n",
    "\n",
    "\n",
    "import pickle\n",
    "from sklearn.feature_extraction.text import TfidfVectorizer\n",
    "\n",
    "# Sample training data\n",
    "corpus = [\"Hello, how are you?\", \"Win a free iPhone now!\", \"Call me later\", \"Limited time offer, act now!\"]\n",
    "\n",
    "# Train the vectorizer\n",
    "vectorizer = TfidfVectorizer(stop_words='english')\n",
    "X = vectorizer.fit_transform(corpus)\n",
    "\n",
    "# Save the vectorizer\n",
    "with open(\"vectorizer.pkl\", \"wb\") as f:\n",
    "    pickle.dump(vectorizer, f)\n",
    "\n",
    "print(\"vectorizer.pkl saved successfully!\")\n"
   ]
  },
  {
   "cell_type": "code",
   "execution_count": 3,
   "metadata": {},
   "outputs": [
    {
     "name": "stdout",
     "output_type": "stream",
     "text": [
      "Current working directory: c:\\Users\\KB\\spamClassifier\n",
      "Files in the directory: ['.git', 'app.py', 'README.md', 'requirements.txt', 'spam_classifier.ipynb', 'templates', 'vectorizer.pkl', 'venv']\n",
      "model.pkl saved successfully!\n"
     ]
    }
   ],
   "source": [
    "import os\n",
    "\n",
    "print(\"Current working directory:\", os.getcwd())  # Check the directory\n",
    "print(\"Files in the directory:\", os.listdir())  # List all files\n",
    "\n",
    "import pickle\n",
    "from sklearn.feature_extraction.text import TfidfVectorizer\n",
    "from sklearn.naive_bayes import MultinomialNB\n",
    "from sklearn.pipeline import make_pipeline\n",
    "\n",
    "# Sample dataset (Replace with real data)\n",
    "texts = [\n",
    "    \"Win a free iPhone now!\", \"Limited time offer, act fast!\",\n",
    "    \"Hey, how are you?\", \"Call me when you're free\",\n",
    "    \"Congratulations! You have won a lottery!\", \"Meet me at the cafe\",\n",
    "    \"Urgent! Your account has been compromised\", \"Let's catch up soon!\"\n",
    "]\n",
    "labels = [1, 1, 0, 0, 1, 0, 1, 0]  # 1 = Spam, 0 = Not Spam\n",
    "\n",
    "# Train the model\n",
    "model = make_pipeline(TfidfVectorizer(stop_words='english'), MultinomialNB())\n",
    "model.fit(texts, labels)\n",
    "\n",
    "# Save the model\n",
    "with open(\"model.pkl\", \"wb\") as f:\n",
    "    pickle.dump(model, f)\n",
    "\n",
    "print(\"model.pkl saved successfully!\")\n"
   ]
  },
  {
   "cell_type": "code",
   "execution_count": null,
   "metadata": {},
   "outputs": [],
   "source": []
  }
 ],
 "metadata": {
  "kernelspec": {
   "display_name": "myenv",
   "language": "python",
   "name": "python3"
  },
  "language_info": {
   "codemirror_mode": {
    "name": "ipython",
    "version": 3
   },
   "file_extension": ".py",
   "mimetype": "text/x-python",
   "name": "python",
   "nbconvert_exporter": "python",
   "pygments_lexer": "ipython3",
   "version": "3.9.21"
  }
 },
 "nbformat": 4,
 "nbformat_minor": 2
}
